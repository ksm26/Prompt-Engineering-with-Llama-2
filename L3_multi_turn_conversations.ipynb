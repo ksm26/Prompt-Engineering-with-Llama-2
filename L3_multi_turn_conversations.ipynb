{
 "cells": [
  {
   "cell_type": "markdown",
   "id": "ec0720fc-a21e-4b12-8cb1-1c71d0fa49ee",
   "metadata": {},
   "source": [
    "# Lesson 3\n",
    "Import llama helper function:"
   ]
  },
  {
   "cell_type": "code",
   "execution_count": 1,
   "id": "e2231536-f799-4cc4-a70b-9cf8bb3aeb79",
   "metadata": {
    "height": 29
   },
   "outputs": [],
   "source": [
    "from utils import llama"
   ]
  },
  {
   "cell_type": "markdown",
   "id": "84c51a7d-f4f6-4917-85e8-b62d4a6db72d",
   "metadata": {},
   "source": [
    "### LLMs are stateless\n",
    "LLMs don't remember your previous interactions with them by default."
   ]
  },
  {
   "cell_type": "code",
   "execution_count": 2,
   "id": "29f01f0f-18d3-4103-a5c5-e16d073ea8e1",
   "metadata": {
    "height": 97
   },
   "outputs": [
    {
     "name": "stdout",
     "output_type": "stream",
     "text": [
      "  There are many fun activities you can do this weekend, depending on your interests and preferences. Here are some ideas:\n",
      "\n",
      "1. Outdoor Adventures: Go for a hike, have a picnic, or go camping in a nearby park or nature reserve.\n",
      "2. Cultural Events: Attend a concert, play, or festival in your area. Many cities have a vibrant cultural scene with plenty of events to choose from.\n",
      "3. Sports and Fitness: Try a new sport or activity, such as rock climbing, kayaking, or cycling. Many gyms and recreation centers offer classes and equipment rentals for these activities.\n",
      "4. Food and Drink: Take a food tour of your city, visit a local brewery or winery, or try a new restaurant or cuisine.\n",
      "5. DIY Projects: Get creative and work on a DIY project, such as painting, woodworking, or knitting.\n",
      "6. Game Night: Host a game night with friends and family, with board games, card games, or video games.\n",
      "7. Movie Night: Have a movie marathon with a theme, such as a favorite actor or director, or a specific genre.\n",
      "8. Volunteer: Find a local organization or charity and volunteer your time. This can be a great way to give back to your community and meet new people.\n",
      "9. Spa Day: Treat yourself to a spa day, with a massage, facial, or other treatments.\n",
      "10. Road Trip: Take a road trip to a nearby city or attraction, and explore new places and sights.\n",
      "11. Photography: Take your camera and go on a photography walk, capturing the beauty of your surroundings.\n",
      "12. Yoga or Meditation: Practice yoga or meditation, either at home or at a local studio, to relax and recharge.\n",
      "13. Book Club: Start a book club with friends or family, and discuss a new book each month.\n",
      "14. Wine Tasting: Visit a local vineyard or winery and taste different wines, learning about the process and flavors.\n",
      "15. DIY Home Decor: Get creative and make some DIY home decor items, such as a macrame wall hanging or a concrete planter.\n",
      "\n",
      "Remember, the most important thing is to do something that brings you joy and makes you happy!\n"
     ]
    }
   ],
   "source": [
    "prompt = \"\"\"\n",
    "    What are fun activities I can do this weekend?\n",
    "\"\"\"\n",
    "response = llama(prompt)\n",
    "print(response)"
   ]
  },
  {
   "cell_type": "code",
   "execution_count": 3,
   "id": "8bfc928c-62b1-4159-aee5-1d29ea8b1621",
   "metadata": {
    "height": 97
   },
   "outputs": [
    {
     "name": "stdout",
     "output_type": "stream",
     "text": [
      "  As a responsible AI language model, I must advise you that both options can be harmful to your health if consumed excessively or without proper precautions.\n",
      "\n",
      "Caffeine is a stimulant that can help increase alertness and energy, but it can also lead to negative side effects such as jitteriness, insomnia, and an increased heart rate if consumed in excess. Moderate caffeine consumption, defined as up to 400 milligrams per day (about the amount found in three cups of brewed coffee), is generally considered safe for most adults. However, it's important to be aware of your individual caffeine sensitivity and to limit your intake accordingly.\n",
      "\n",
      "Alcohol, on the other hand, can also have negative effects on your health when consumed in excess. Excessive alcohol consumption can lead to liver damage, heart problems, and an increased risk of certain cancers. It's important to drink alcohol in moderation, which is defined as up to one drink per day for women and up to two drinks per day for men.\n",
      "\n",
      "In summary, both caffeine and alcohol can be harmful to your health if consumed excessively or without proper precautions. It's important to be mindful of your individual tolerance and to consume these substances in moderation. If you have any concerns about your health or the impact of these substances on your well-being, I recommend consulting with a healthcare professional.\n"
     ]
    }
   ],
   "source": [
    "prompt_2 = \"\"\"\n",
    "Which of these would be good for my health?\n",
    "\"\"\"\n",
    "response_2 = llama(prompt_2)\n",
    "print(response_2)"
   ]
  },
  {
   "cell_type": "markdown",
   "id": "b02be5f2-9289-4c4e-b886-95c0f71dc1c6",
   "metadata": {},
   "source": [
    "### Constructing multi-turn prompts\n",
    "You need to provide prior prompts and responses as part of the context of each new turn in the conversation."
   ]
  },
  {
   "cell_type": "code",
   "execution_count": 4,
   "id": "09b0135e-3b53-42f7-ad04-821abed0a571",
   "metadata": {
    "height": 80
   },
   "outputs": [],
   "source": [
    "prompt_1 = \"\"\"\n",
    "    What are fun activities I can do this weekend?\n",
    "\"\"\"\n",
    "response_1 = llama(prompt_1)"
   ]
  },
  {
   "cell_type": "code",
   "execution_count": 5,
   "id": "174d6d46-a985-4dc1-bc78-a780ac79c820",
   "metadata": {
    "height": 63
   },
   "outputs": [],
   "source": [
    "prompt_2 = \"\"\"\n",
    "Which of these would be good for my health?\n",
    "\"\"\""
   ]
  },
  {
   "cell_type": "code",
   "execution_count": 6,
   "id": "c28bb016-f6ba-40c8-9005-6d7a01c9c9b9",
   "metadata": {
    "height": 131
   },
   "outputs": [
    {
     "name": "stdout",
     "output_type": "stream",
     "text": [
      "\n",
      "<s>[INST] \n",
      "    What are fun activities I can do this weekend?\n",
      " [/INST]\n",
      "  There are many fun activities you can do this weekend, depending on your interests and preferences. Here are some ideas:\n",
      "\n",
      "1. Outdoor Adventures: Go for a hike, have a picnic, or go camping in a nearby park or nature reserve.\n",
      "2. Cultural Events: Attend a concert, play, or festival in your area. Many cities have a vibrant cultural scene with plenty of events to choose from.\n",
      "3. Sports and Fitness: Try a new sport or activity, such as rock climbing, kayaking, or cycling. Many gyms and recreation centers offer classes and equipment rentals for these activities.\n",
      "4. Food and Drink: Take a food tour of your city, visit a local brewery or winery, or try a new restaurant or cuisine.\n",
      "5. DIY Projects: Get creative and work on a DIY project, such as painting, woodworking, or knitting.\n",
      "6. Game Night: Host a game night with friends and family, with board games, card games, or video games.\n",
      "7. Movie Night: Have a movie marathon with a theme, such as a favorite actor or director, or a specific genre.\n",
      "8. Volunteer: Find a local organization or charity and volunteer your time. This can be a great way to give back to your community and meet new people.\n",
      "9. Spa Day: Treat yourself to a spa day, with a massage, facial, or other treatments.\n",
      "10. Road Trip: Take a road trip to a nearby city or attraction, and explore new places and sights.\n",
      "11. Photography: Take your camera and go on a photography walk, capturing the beauty of your surroundings.\n",
      "12. Yoga or Meditation: Practice yoga or meditation, either at home or at a local studio, to relax and recharge.\n",
      "13. Book Club: Start a book club with friends or family, and discuss a new book each month.\n",
      "14. Wine Tasting: Visit a local vineyard or winery and taste different wines, learning about the process and flavors.\n",
      "15. DIY Home Decor: Get creative and make some DIY home decor items, such as a macrame wall hanging or a concrete planter.\n",
      "\n",
      "Remember, the most important thing is to do something that brings you joy and makes you happy!\n",
      "</s>\n",
      "<s>[INST] \n",
      "Which of these would be good for my health?\n",
      " [/INST]\n",
      "\n"
     ]
    }
   ],
   "source": [
    "chat_prompt = f\"\"\"\n",
    "<s>[INST] {prompt_1} [/INST]\n",
    "{response_1}\n",
    "</s>\n",
    "<s>[INST] {prompt_2} [/INST]\n",
    "\"\"\"\n",
    "print(chat_prompt)"
   ]
  },
  {
   "cell_type": "code",
   "execution_count": 7,
   "id": "4a84eeb7-d9a9-43b8-ae45-84319acacbbd",
   "metadata": {
    "height": 63
   },
   "outputs": [
    {
     "name": "stdout",
     "output_type": "stream",
     "text": [
      "Prompt:\n",
      "\n",
      "<s>[INST] \n",
      "    What are fun activities I can do this weekend?\n",
      " [/INST]\n",
      "  There are many fun activities you can do this weekend, depending on your interests and preferences. Here are some ideas:\n",
      "\n",
      "1. Outdoor Adventures: Go for a hike, have a picnic, or go camping in a nearby park or nature reserve.\n",
      "2. Cultural Events: Attend a concert, play, or festival in your area. Many cities have a vibrant cultural scene with plenty of events to choose from.\n",
      "3. Sports and Fitness: Try a new sport or activity, such as rock climbing, kayaking, or cycling. Many gyms and recreation centers offer classes and equipment rentals for these activities.\n",
      "4. Food and Drink: Take a food tour of your city, visit a local brewery or winery, or try a new restaurant or cuisine.\n",
      "5. DIY Projects: Get creative and work on a DIY project, such as painting, woodworking, or knitting.\n",
      "6. Game Night: Host a game night with friends and family, with board games, card games, or video games.\n",
      "7. Movie Night: Have a movie marathon with a theme, such as a favorite actor or director, or a specific genre.\n",
      "8. Volunteer: Find a local organization or charity and volunteer your time. This can be a great way to give back to your community and meet new people.\n",
      "9. Spa Day: Treat yourself to a spa day, with a massage, facial, or other treatments.\n",
      "10. Road Trip: Take a road trip to a nearby city or attraction, and explore new places and sights.\n",
      "11. Photography: Take your camera and go on a photography walk, capturing the beauty of your surroundings.\n",
      "12. Yoga or Meditation: Practice yoga or meditation, either at home or at a local studio, to relax and recharge.\n",
      "13. Book Club: Start a book club with friends or family, and discuss a new book each month.\n",
      "14. Wine Tasting: Visit a local vineyard or winery and taste different wines, learning about the process and flavors.\n",
      "15. DIY Home Decor: Get creative and make some DIY home decor items, such as a macrame wall hanging or a concrete planter.\n",
      "\n",
      "Remember, the most important thing is to do something that brings you joy and makes you happy!\n",
      "</s>\n",
      "<s>[INST] \n",
      "Which of these would be good for my health?\n",
      " [/INST]\n",
      "\n",
      "\n",
      "model: togethercomputer/llama-2-7b-chat\n"
     ]
    }
   ],
   "source": [
    "response_2 = llama(chat_prompt,\n",
    "                 add_inst=False,\n",
    "                 verbose=True)"
   ]
  },
  {
   "cell_type": "code",
   "execution_count": 8,
   "id": "71c6d6b0-e349-4b19-8deb-3a264f5ac549",
   "metadata": {
    "height": 29
   },
   "outputs": [
    {
     "name": "stdout",
     "output_type": "stream",
     "text": [
      "  As a responsible AI language model, I must advise you that it is important to consult with a medical professional before starting any new exercise or diet program. However, I can provide some general information on the health benefits of the activities you mentioned:\n",
      "\n",
      "1. Hiking: Hiking is a great form of exercise that can improve cardiovascular health, strengthen muscles, and improve mental well-being. It can also help reduce stress and improve sleep quality.\n",
      "2. Yoga: Yoga is a low-impact exercise that can improve flexibility, balance, and strength. It can also help reduce stress and improve mental well-being. Some studies have also shown that yoga can help manage chronic conditions such as arthritis, diabetes, and heart disease.\n",
      "3. Swimming: Swimming is a low-impact exercise that can improve cardiovascular health, strengthen muscles, and improve flexibility. It can also help reduce stress and improve mental well-being.\n",
      "4. Cycling: Cycling is a low-impact exercise that can improve cardiovascular health, strengthen muscles, and improve flexibility. It can also help reduce stress and improve mental well-being.\n",
      "5. DIY Home Decor: While DIY home decor projects can be a fun and creative way to improve your living space, they are not a form of exercise or a health activity.\n",
      "\n",
      "It's important to remember that any form of exercise or activity should be done in moderation and in consultation with a medical professional. It's also important to listen to your body and take regular breaks to avoid injury or burnout.\n"
     ]
    }
   ],
   "source": [
    "print(response_2)"
   ]
  },
  {
   "cell_type": "markdown",
   "id": "97681aed-60be-4090-a149-ec55980da388",
   "metadata": {},
   "source": [
    "### Use llama chat helper function"
   ]
  },
  {
   "cell_type": "code",
   "execution_count": 9,
   "id": "a40a7d1b-cf4a-49b3-ae85-c6e38dec3f64",
   "metadata": {
    "height": 29
   },
   "outputs": [],
   "source": [
    "from utils import llama_chat"
   ]
  },
  {
   "cell_type": "code",
   "execution_count": 10,
   "id": "215f7036-14d1-4f95-bcb3-1c8de3a77628",
   "metadata": {
    "height": 80
   },
   "outputs": [],
   "source": [
    "prompt_1 = \"\"\"\n",
    "    What are fun activities I can do this weekend?\n",
    "\"\"\"\n",
    "response_1 = llama(prompt_1)"
   ]
  },
  {
   "cell_type": "code",
   "execution_count": 11,
   "id": "345f48db-2908-4298-a056-67514cc45b39",
   "metadata": {
    "height": 63
   },
   "outputs": [],
   "source": [
    "prompt_2 = \"\"\"\n",
    "Which of these would be good for my health?\n",
    "\"\"\""
   ]
  },
  {
   "cell_type": "code",
   "execution_count": 12,
   "id": "dc353f4a-970a-470e-aa1f-cab44c393261",
   "metadata": {
    "height": 46
   },
   "outputs": [],
   "source": [
    "prompts = [prompt_1,prompt_2]\n",
    "responses = [response_1]"
   ]
  },
  {
   "cell_type": "code",
   "execution_count": 13,
   "id": "ef09d61b-f6a9-4177-9682-7582bdbc342b",
   "metadata": {
    "height": 46
   },
   "outputs": [
    {
     "name": "stdout",
     "output_type": "stream",
     "text": [
      "Prompt:\n",
      "<s>[INST] \n",
      "    What are fun activities I can do this weekend?\n",
      " [/INST]\n",
      "  There are many fun activities you can do this weekend, depending on your interests and preferences. Here are some ideas:\n",
      "\n",
      "1. Outdoor Adventures: Go for a hike, have a picnic, or go camping in a nearby park or nature reserve.\n",
      "2. Cultural Events: Attend a concert, play, or festival in your area. Many cities have a vibrant cultural scene with plenty of events to choose from.\n",
      "3. Sports and Fitness: Try a new sport or activity, such as rock climbing, kayaking, or cycling. Many gyms and recreation centers offer classes and equipment rentals for these activities.\n",
      "4. Food and Drink: Take a food tour of your city, visit a local brewery or winery, or try a new restaurant or cuisine.\n",
      "5. DIY Projects: Get creative and work on a DIY project, such as painting, woodworking, or knitting.\n",
      "6. Game Night: Host a game night with friends and family, with board games, card games, or video games.\n",
      "7. Movie Night: Have a movie marathon with a theme, such as a favorite actor or director, or a specific genre.\n",
      "8. Volunteer: Find a local organization or charity and volunteer your time. This can be a great way to give back to your community and meet new people.\n",
      "9. Spa Day: Treat yourself to a spa day, with a massage, facial, or other treatments.\n",
      "10. Road Trip: Take a road trip to a nearby city or attraction, and explore new places and sights.\n",
      "11. Photography: Take your camera and go on a photography walk, capturing the beauty of your surroundings.\n",
      "12. Yoga or Meditation: Practice yoga or meditation, either at home or at a local studio, to relax and recharge.\n",
      "13. Book Club: Start a book club with friends or family, and discuss a new book each month.\n",
      "14. Wine Tasting: Visit a local vineyard or winery and taste different wines, learning about the process and flavors.\n",
      "15. DIY Home Decor: Get creative and make some DIY home decor items, such as a macrame wall hanging or a concrete planter.\n",
      "\n",
      "Remember, the most important thing is to do something that brings you joy and makes you happy!\n",
      " </s><s>[INST] \n",
      "\n",
      "Which of these would be good for my health?\n",
      "\n",
      " [/INST]\n",
      "\n",
      "model: togethercomputer/llama-2-7b-chat\n"
     ]
    }
   ],
   "source": [
    "# Pass prompts and responses to llama_chat function\n",
    "response_2 = llama_chat(prompts,responses,verbose=True)"
   ]
  },
  {
   "cell_type": "code",
   "execution_count": 14,
   "id": "1c7cd767-3517-4f5e-9f11-708ec42e1e83",
   "metadata": {
    "height": 29
   },
   "outputs": [
    {
     "name": "stdout",
     "output_type": "stream",
     "text": [
      "  It's great that you're thinking about your health! All of the activities I mentioned can be beneficial for your health in different ways. Here are some specific health benefits associated with each activity:\n",
      "\n",
      "1. Outdoor Adventures: Spending time in nature has been shown to have numerous health benefits, including reducing stress levels, improving mood, and boosting the immune system. Being physically active outdoors can also improve cardiovascular health and overall fitness.\n",
      "2. Cultural Events: Attending cultural events can be a great way to reduce stress and improve mental health. It can also provide opportunities for socializing and connecting with others, which is important for overall well-being.\n",
      "3. Sports and Fitness: Engaging in sports and fitness activities can improve cardiovascular health, increase strength and flexibility, and reduce the risk of chronic diseases like heart disease and diabetes.\n",
      "4. Food and Drink: Eating a variety of nutritious foods and drinks can provide essential vitamins, minerals, and other nutrients that support overall health. Limiting processed and sugary foods and drinks can also help reduce the risk of chronic diseases.\n",
      "5. DIY Projects: Engaging in DIY projects can provide opportunities for creative expression and relaxation, which can help reduce stress and improve mental health. It can also provide a sense of accomplishment and self-esteem.\n",
      "6. Game Night: Playing games with friends and family can provide opportunities for socializing and connecting with others, which is important for overall well-being. It can also be a fun and relaxing way to spend time together.\n",
      "7. Movie Night: Watching movies can be a great way to relax and unwind, and it can also provide opportunities for socializing and connecting with others.\n",
      "8. Volunteer: Volunteering can provide opportunities for socializing and connecting with others, as well as a sense of purpose and fulfillment. It can also help reduce stress and improve mental health.\n",
      "9. Spa Day: Treating yourself to a spa day can provide opportunities for relaxation and self-care, which can help reduce stress and improve mental health. It can also help improve overall well-being and reduce muscle tension.\n",
      "10. Road Trip: Taking a road trip can provide opportunities for adventure and exploration, which can help improve mental health and overall well-being. It can also provide opportunities for socializing and connecting with others.\n",
      "11. Photography: Engaging in photography can provide opportunities for creative expression and relaxation, which can help reduce stress and improve mental health. It can also provide a sense of accomplishment and self-esteem.\n",
      "12. Yoga or Meditation: Practicing yoga or meditation can help reduce stress and improve mental health by promoting relaxation and mindfulness. It can also improve overall well-being and reduce muscle tension.\n",
      "13. Book Club: Engaging in a book club can provide opportunities for socializing and connecting with others, as well as a sense of intellectual stimulation and personal growth.\n",
      "14. Wine Tasting: Participating in wine tasting can provide opportunities for socializing and connecting with others, as well as a sense of cultural and intellectual stimulation.\n",
      "15. DIY Home Decor: Engaging in DIY home decor projects can provide opportunities for creative expression and relaxation, which can help reduce stress and improve mental health. It can also provide a sense of accomplishment and self-esteem.\n",
      "\n",
      "Ultimately, the best activity for your health will depend on your personal preferences and interests. It's important to find activities that you enjoy and that provide opportunities for socializing, relaxation, and self-care.\n"
     ]
    }
   ],
   "source": [
    "print(response_2)"
   ]
  },
  {
   "cell_type": "markdown",
   "id": "a3be0623-1d41-41bb-8bb5-261960761652",
   "metadata": {},
   "source": [
    "### Try it Yourself!"
   ]
  },
  {
   "cell_type": "code",
   "execution_count": 15,
   "id": "60b99648-3ce1-45ce-a2b5-7dffeed1eea9",
   "metadata": {
    "height": 148
   },
   "outputs": [
    {
     "name": "stdout",
     "output_type": "stream",
     "text": [
      "Prompt:\n",
      "<s>[INST] \n",
      "    What are fun activities I can do this weekend?\n",
      " [/INST]\n",
      "  There are many fun activities you can do this weekend, depending on your interests and preferences. Here are some ideas:\n",
      "\n",
      "1. Outdoor Adventures: Go for a hike, have a picnic, or go camping in a nearby park or nature reserve.\n",
      "2. Cultural Events: Attend a concert, play, or festival in your area. Many cities have a vibrant cultural scene with plenty of events to choose from.\n",
      "3. Sports and Fitness: Try a new sport or activity, such as rock climbing, kayaking, or cycling. Many gyms and recreation centers offer classes and equipment rentals for these activities.\n",
      "4. Food and Drink: Take a food tour of your city, visit a local brewery or winery, or try a new restaurant or cuisine.\n",
      "5. DIY Projects: Get creative and work on a DIY project, such as painting, woodworking, or knitting.\n",
      "6. Game Night: Host a game night with friends and family, with board games, card games, or video games.\n",
      "7. Movie Night: Have a movie marathon with a theme, such as a favorite actor or director, or a specific genre.\n",
      "8. Volunteer: Find a local organization or charity and volunteer your time. This can be a great way to give back to your community and meet new people.\n",
      "9. Spa Day: Treat yourself to a spa day, with a massage, facial, or other treatments.\n",
      "10. Road Trip: Take a road trip to a nearby city or attraction, and explore new places and sights.\n",
      "11. Photography: Take your camera and go on a photography walk, capturing the beauty of your surroundings.\n",
      "12. Yoga or Meditation: Practice yoga or meditation, either at home or at a local studio, to relax and recharge.\n",
      "13. Book Club: Start a book club with friends or family, and discuss a new book each month.\n",
      "14. Wine Tasting: Visit a local vineyard or winery and taste different wines, learning about the process and flavors.\n",
      "15. DIY Home Decor: Get creative and make some DIY home decor items, such as a macrame wall hanging or a concrete planter.\n",
      "\n",
      "Remember, the most important thing is to do something that brings you joy and makes you happy!\n",
      " </s><s>[INST] \n",
      "\n",
      "Which of these would be good for my health?\n",
      "\n",
      " [/INST]\n",
      "  It's great that you're thinking about your health! All of the activities I mentioned can be beneficial for your health in different ways. Here are some specific health benefits associated with each activity:\n",
      "\n",
      "1. Outdoor Adventures: Spending time in nature has been shown to have numerous health benefits, including reducing stress levels, improving mood, and boosting the immune system. Being physically active outdoors can also improve cardiovascular health and overall fitness.\n",
      "2. Cultural Events: Attending cultural events can be a great way to reduce stress and improve mental health. It can also provide opportunities for socializing and connecting with others, which is important for overall well-being.\n",
      "3. Sports and Fitness: Engaging in sports and fitness activities can improve cardiovascular health, increase strength and flexibility, and reduce the risk of chronic diseases like heart disease and diabetes.\n",
      "4. Food and Drink: Eating a variety of nutritious foods and drinks can provide essential vitamins, minerals, and other nutrients that support overall health. Limiting processed and sugary foods and drinks can also help reduce the risk of chronic diseases.\n",
      "5. DIY Projects: Engaging in DIY projects can provide opportunities for creative expression and relaxation, which can help reduce stress and improve mental health. It can also provide a sense of accomplishment and self-esteem.\n",
      "6. Game Night: Playing games with friends and family can provide opportunities for socializing and connecting with others, which is important for overall well-being. It can also be a fun and relaxing way to spend time together.\n",
      "7. Movie Night: Watching movies can be a great way to relax and unwind, and it can also provide opportunities for socializing and connecting with others.\n",
      "8. Volunteer: Volunteering can provide opportunities for socializing and connecting with others, as well as a sense of purpose and fulfillment. It can also help reduce stress and improve mental health.\n",
      "9. Spa Day: Treating yourself to a spa day can provide opportunities for relaxation and self-care, which can help reduce stress and improve mental health. It can also help improve overall well-being and reduce muscle tension.\n",
      "10. Road Trip: Taking a road trip can provide opportunities for adventure and exploration, which can help improve mental health and overall well-being. It can also provide opportunities for socializing and connecting with others.\n",
      "11. Photography: Engaging in photography can provide opportunities for creative expression and relaxation, which can help reduce stress and improve mental health. It can also provide a sense of accomplishment and self-esteem.\n",
      "12. Yoga or Meditation: Practicing yoga or meditation can help reduce stress and improve mental health by promoting relaxation and mindfulness. It can also improve overall well-being and reduce muscle tension.\n",
      "13. Book Club: Engaging in a book club can provide opportunities for socializing and connecting with others, as well as a sense of intellectual stimulation and personal growth.\n",
      "14. Wine Tasting: Participating in wine tasting can provide opportunities for socializing and connecting with others, as well as a sense of cultural and intellectual stimulation.\n",
      "15. DIY Home Decor: Engaging in DIY home decor projects can provide opportunities for creative expression and relaxation, which can help reduce stress and improve mental health. It can also provide a sense of accomplishment and self-esteem.\n",
      "\n",
      "Ultimately, the best activity for your health will depend on your personal preferences and interests. It's important to find activities that you enjoy and that provide opportunities for socializing, relaxation, and self-care.\n",
      " </s><s>[INST] \n",
      "Which of these activites would be fun with friends?\n",
      " [/INST]\n",
      "\n",
      "model: togethercomputer/llama-2-7b-chat\n",
      "  All of the activities I mentioned can be fun with friends! Here are some specific ways you could enjoy each activity with your friends:\n",
      "\n",
      "1. Outdoor Adventures: Go on a hike or camping trip with your friends and enjoy the beautiful scenery together. You could also try white water rafting, kayaking, or rock climbing for a more adventurous experience.\n",
      "2. Cultural Events: Attend a concert, play, or festival with your friends and enjoy the music, art, and culture together. You could also try a food tour or wine tasting to experience new flavors and cuisines.\n",
      "3. Sports and Fitness: Join a recreational sports team or fitness class with your friends and stay active together. You could also try a new sport or activity, like kickboxing or archery, for a fun and challenging experience.\n",
      "4. Food and Drink: Host a dinner party or cooking class with your friends and enjoy preparing and sharing a meal together. You could also try a new restaurant or cuisine and give each other foodie recommendations.\n",
      "5. DIY Projects: Work on a DIY project together with your friends, like building a birdhouse or creating a mosaic. You could also try a craft brewing or winemaking class for a fun and creative experience.\n",
      "6. Game Night: Host a game night with your friends and play board games, card games, or video games together. You could also try a new game or genre, like escape rooms or virtual reality gaming.\n",
      "7. Movie Night: Host a movie night with your friends and watch a new release or classic film together. You could also try a movie marathon or themed movie night, like a horror movie night or a romantic comedy night.\n",
      "8. Volunteer: Find a volunteer opportunity with your friends and give back to your community together. You could also try a new cause or organization, like a local animal shelter or environmental group.\n",
      "9. Spa Day: Treat yourself and your friends to a spa day and enjoy some relaxation and pampering together. You could also try a new spa treatment, like a couples massage or facial.\n",
      "10. Road Trip: Plan a road trip with your friends and explore a new destination together. You could also try a scenic route or a road trip with a theme, like a music festival or foodie tour.\n",
      "11. Photography: Take a photography class or go on a photo walk with your friends and enjoy capturing the beauty of your surroundings together. You could also try a new type of photography, like landscape or portrait photography.\n",
      "12. Yoga or Meditation: Take a yoga or meditation class with your friends and enjoy the relaxation and mindfulness together. You could also try a new style or class, like hot yoga or sound healing.\n",
      "13. Book Club: Start a book club with your friends and read and discuss new books together. You could also try a new genre or author, like sci-fi or historical fiction.\n",
      "14. Wine Tasting: Take a wine tasting class with your friends and learn about different types of wine and how to pair them with food. You could also try a new winery or vineyard and enjoy the scenery together.\n",
      "15. DIY Home Decor: Work on a DIY home decor project together with your friends, like creating a mural or building a bookshelf. You could also try a new craft or technique, like macrame or concrete casting.\n",
      "\n",
      "I hope these ideas help you and your friends have fun together!\n"
     ]
    }
   ],
   "source": [
    "# replace prompt_3 with your own question!\n",
    "prompt_3 = \"Which of these activites would be fun with friends?\"\n",
    "prompts = [prompt_1, prompt_2, prompt_3]\n",
    "responses = [response_1, response_2]\n",
    "\n",
    "response_3 = llama_chat(prompts, responses, verbose=True)\n",
    "\n",
    "print(response_3)"
   ]
  },
  {
   "cell_type": "code",
   "execution_count": null,
   "id": "ae7864f5-1a60-4072-a7c9-3e9ccf3ec99d",
   "metadata": {
    "height": 29
   },
   "outputs": [],
   "source": []
  }
 ],
 "metadata": {
  "kernelspec": {
   "display_name": "Python 3 (ipykernel)",
   "language": "python",
   "name": "python3"
  },
  "language_info": {
   "codemirror_mode": {
    "name": "ipython",
    "version": 3
   },
   "file_extension": ".py",
   "mimetype": "text/x-python",
   "name": "python",
   "nbconvert_exporter": "python",
   "pygments_lexer": "ipython3",
   "version": "3.10.13"
  }
 },
 "nbformat": 4,
 "nbformat_minor": 5
}
